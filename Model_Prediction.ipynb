{
 "cells": [
  {
   "cell_type": "code",
   "execution_count": 2,
   "id": "8799777d-a31d-4e37-9e3c-0284ccf4f3cd",
   "metadata": {},
   "outputs": [],
   "source": [
    "import tensorflow as tf\n",
    "from tensorflow.keras.applications.mobilenet_v3 import preprocess_input\n",
    "import numpy as np\n",
    "import os"
   ]
  },
  {
   "cell_type": "code",
   "execution_count": 4,
   "id": "3e93bffe-4168-42d7-99a5-340770d96dad",
   "metadata": {},
   "outputs": [],
   "source": [
    "model = tf.keras.models.load_model(\"Trained_Model.keras\")"
   ]
  },
  {
   "cell_type": "code",
   "execution_count": 6,
   "id": "5d77d628-5bde-4202-922b-35672dcacd5a",
   "metadata": {},
   "outputs": [],
   "source": [
    "img_path = '/Users/cartneyhlauffin/Downloads/Dataset - train+val+test/test/DRUSEN/DRUSEN-1112835-7.jpeg'\n",
    "img = tf.keras.utils.load_img(img_path, target_size=(224, 224))\n",
    "x = tf.keras.utils.img_to_array(img)\n",
    "x = np.expand_dims(x, axis=0)\n",
    "x = preprocess_input(x)"
   ]
  },
  {
   "cell_type": "code",
   "execution_count": 8,
   "id": "c6e1a32b-d9f6-4fd8-814a-ec024d724f26",
   "metadata": {},
   "outputs": [
    {
     "data": {
      "text/plain": [
       "(1, 224, 224, 3)"
      ]
     },
     "execution_count": 8,
     "metadata": {},
     "output_type": "execute_result"
    }
   ],
   "source": [
    "x.shape"
   ]
  },
  {
   "cell_type": "code",
   "execution_count": 10,
   "id": "94d0bab2-29f8-41b0-92a6-4e1a47795fdf",
   "metadata": {},
   "outputs": [
    {
     "name": "stdout",
     "output_type": "stream",
     "text": [
      "\u001b[1m1/1\u001b[0m \u001b[32m━━━━━━━━━━━━━━━━━━━━\u001b[0m\u001b[37m\u001b[0m \u001b[1m0s\u001b[0m 350ms/step\n"
     ]
    }
   ],
   "source": [
    "preds = model.predict(x)"
   ]
  },
  {
   "cell_type": "code",
   "execution_count": 12,
   "id": "638daeb0-ecf2-4bf9-a04e-9578c96e50e3",
   "metadata": {},
   "outputs": [
    {
     "data": {
      "text/plain": [
       "array([[0.06317456, 0.01047753, 0.8990245 , 0.02732343]], dtype=float32)"
      ]
     },
     "execution_count": 12,
     "metadata": {},
     "output_type": "execute_result"
    }
   ],
   "source": [
    "preds"
   ]
  },
  {
   "cell_type": "code",
   "execution_count": 22,
   "id": "5f3fce21-8778-4c5e-be93-e9c91f8e16f9",
   "metadata": {},
   "outputs": [
    {
     "data": {
      "text/plain": [
       "['CNV', 'DME', 'DRUSEN', 'NORMAL']"
      ]
     },
     "execution_count": 22,
     "metadata": {},
     "output_type": "execute_result"
    }
   ],
   "source": [
    "import os\n",
    "\n",
    "class_name = os.listdir(\"/Users/cartneyhlauffin/Downloads/Dataset - train+val+test/test\")\n",
    "class_name = sorted([name for name in class_name if not name.startswith('.')])\n",
    "class_name"
   ]
  },
  {
   "cell_type": "code",
   "execution_count": 24,
   "id": "826d969d-e81f-464d-90c8-6178e5e43243",
   "metadata": {},
   "outputs": [
    {
     "data": {
      "text/plain": [
       "'DRUSEN'"
      ]
     },
     "execution_count": 24,
     "metadata": {},
     "output_type": "execute_result"
    }
   ],
   "source": [
    "result_index = np.argmax(preds)\n",
    "class_name[result_index]"
   ]
  },
  {
   "cell_type": "code",
   "execution_count": null,
   "id": "055f020a-0f87-438c-9d2d-dce842418acb",
   "metadata": {},
   "outputs": [],
   "source": []
  }
 ],
 "metadata": {
  "kernelspec": {
   "display_name": "Python 3 (ipykernel)",
   "language": "python",
   "name": "python3"
  },
  "language_info": {
   "codemirror_mode": {
    "name": "ipython",
    "version": 3
   },
   "file_extension": ".py",
   "mimetype": "text/x-python",
   "name": "python",
   "nbconvert_exporter": "python",
   "pygments_lexer": "ipython3",
   "version": "3.12.2"
  }
 },
 "nbformat": 4,
 "nbformat_minor": 5
}
